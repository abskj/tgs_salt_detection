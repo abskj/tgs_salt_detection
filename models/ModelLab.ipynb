{
 "cells": [
  {
   "cell_type": "code",
   "execution_count": 1,
   "metadata": {},
   "outputs": [],
   "source": [
    "import torch\n",
    "import torch.nn as nn\n",
    "import pandas as pd\n",
    "import numpy as np\n"
   ]
  },
  {
   "cell_type": "code",
   "execution_count": 2,
   "metadata": {},
   "outputs": [
    {
     "data": {
      "text/plain": [
       "'\\nUnet based model for detecting salt regions in seismic images\\nInput:\\nImage 101x101 [0,1]\\nTransform:\\nNone(for now)\\nOutput:\\n101x101 matrix with pixel wise confidence values for salt presence\\n\\nStructure:\\nDN: A FC layer to create a kernel that applies on the images\\nUN: A  unet image classifier\\n\\n'"
      ]
     },
     "execution_count": 2,
     "metadata": {},
     "output_type": "execute_result"
    }
   ],
   "source": [
    "'''\n",
    "Unet based model for detecting salt regions in seismic images\n",
    "Input:\n",
    "Image 101x101 [0,1]\n",
    "Transform:\n",
    "None(for now)\n",
    "Output:\n",
    "101x101 matrix with pixel wise confidence values for salt presence\n",
    "\n",
    "Structure:\n",
    "DN: A FC layer to create a kernel that applies on the images\n",
    "UN: A  unet image classifier\n",
    "\n",
    "'''\n"
   ]
  },
  {
   "cell_type": "code",
   "execution_count": 28,
   "metadata": {},
   "outputs": [],
   "source": [
    "class DN_(nn.Module):\n",
    "    '''\n",
    "    @IN\n",
    "    img: A tensor representing the grayscaled image\n",
    "    d: The z index of the image\n",
    "    \n",
    "    @OUT\n",
    "    101*101 tensor representing the features found by kernel(3*3) created from depth value\n",
    "    '''\n",
    "    def __init__(self):\n",
    "        super(DN_,self).__init__()\n",
    "        self.layer1 = nn.Sequential(nn.Linear(4,9,bias=False),\n",
    "                                   nn.ReLU())\n",
    "        self.layer2 = nn.Sequential(nn.Linear(9,9,bias=True),\n",
    "                                   nn.Sigmoid())\n",
    "        self.conv1 = nn.Conv2d(1,1,kernel_size=3,stride=1,padding=1,bias=False)\n",
    "        self.non_linear1 = nn.ReLU()\n",
    "    def forward(self,x,d):\n",
    "        ker = torch.from_numpy(np.array([d,d**2,d**3,1])).float()\n",
    "        ker = self.layer1(ker)\n",
    "        ker = self.layer2(ker).view(1,1,3,3)\n",
    "        self.conv1.weight = nn.Parameter(ker)\n",
    "        x = self.non_linear1(self.conv1(x))\n",
    "        return x"
   ]
  },
  {
   "cell_type": "code",
   "execution_count": 30,
   "metadata": {},
   "outputs": [
    {
     "data": {
      "text/plain": [
       "torch.Size([10, 1, 101, 101])"
      ]
     },
     "execution_count": 30,
     "metadata": {},
     "output_type": "execute_result"
    }
   ],
   "source": [
    "x = torch.randn(10,1,101,101)\n",
    "y = torch.randn(10,1)\n",
    "model =DN_()\n",
    "model(x,45).shape"
   ]
  },
  {
   "cell_type": "code",
   "execution_count": null,
   "metadata": {},
   "outputs": [],
   "source": [
    "class UN_(nn.Module):\n",
    "    def __init__(self):\n",
    "        super(UN_,self).__init__()\n",
    "        "
   ]
  }
 ],
 "metadata": {
  "kernelspec": {
   "display_name": "Python 3",
   "language": "python",
   "name": "python3"
  },
  "language_info": {
   "codemirror_mode": {
    "name": "ipython",
    "version": 3
   },
   "file_extension": ".py",
   "mimetype": "text/x-python",
   "name": "python",
   "nbconvert_exporter": "python",
   "pygments_lexer": "ipython3",
   "version": "3.6.5"
  }
 },
 "nbformat": 4,
 "nbformat_minor": 2
}

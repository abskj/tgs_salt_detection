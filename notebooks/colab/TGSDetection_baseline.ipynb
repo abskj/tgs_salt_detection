{
  "nbformat": 4,
  "nbformat_minor": 0,
  "metadata": {
    "colab": {
      "name": "TGSDetection_base.ipynb",
      "version": "0.3.2",
      "provenance": [],
      "collapsed_sections": []
    },
    "kernelspec": {
      "name": "python3",
      "display_name": "Python 3"
    },
    "accelerator": "GPU"
  },
  "cells": [
    {
      "metadata": {
        "id": "TGhrHUvK0nzy",
        "colab_type": "text"
      },
      "cell_type": "markdown",
      "source": [
        "# Installation and neccessary imports"
      ]
    },
    {
      "metadata": {
        "id": "GU_WaXquzzfK",
        "colab_type": "code",
        "colab": {
          "base_uri": "https://localhost:8080/",
          "height": 772
        },
        "outputId": "b2e36f2d-922d-4461-b624-9354f6ca317e"
      },
      "cell_type": "code",
      "source": [
        "!pip install torch\n",
        "!pip install torchvision\n",
        "!pip install Pillow\n",
        "!pip install -U -q PyDrive\n",
        "!pip install pretrainedmodels"
      ],
      "execution_count": 1,
      "outputs": [
        {
          "output_type": "stream",
          "text": [
            "Collecting torch\n",
            "\u001b[?25l  Downloading https://files.pythonhosted.org/packages/49/0e/e382bcf1a6ae8225f50b99cc26effa2d4cc6d66975ccf3fa9590efcbedce/torch-0.4.1-cp36-cp36m-manylinux1_x86_64.whl (519.5MB)\n",
            "\u001b[K    100% |████████████████████████████████| 519.5MB 30kB/s \n",
            "tcmalloc: large alloc 1073750016 bytes == 0x5a030000 @  0x7f9888d9c2a4 0x594e17 0x626104 0x51190a 0x4f5277 0x510c78 0x5119bd 0x4f5277 0x4f3338 0x510fb0 0x5119bd 0x4f5277 0x4f3338 0x510fb0 0x5119bd 0x4f5277 0x4f3338 0x510fb0 0x5119bd 0x4f6070 0x510c78 0x5119bd 0x4f5277 0x4f3338 0x510fb0 0x5119bd 0x4f6070 0x4f3338 0x510fb0 0x5119bd 0x4f6070\n",
            "\u001b[?25hInstalling collected packages: torch\n",
            "Successfully installed torch-0.4.1\n",
            "Collecting torchvision\n",
            "\u001b[?25l  Downloading https://files.pythonhosted.org/packages/ca/0d/f00b2885711e08bd71242ebe7b96561e6f6d01fdb4b9dcf4d37e2e13c5e1/torchvision-0.2.1-py2.py3-none-any.whl (54kB)\n",
            "\u001b[K    100% |████████████████████████████████| 61kB 5.2MB/s \n",
            "\u001b[?25hRequirement already satisfied: numpy in /usr/local/lib/python3.6/dist-packages (from torchvision) (1.14.6)\n",
            "Requirement already satisfied: six in /usr/local/lib/python3.6/dist-packages (from torchvision) (1.11.0)\n",
            "Collecting pillow>=4.1.1 (from torchvision)\n",
            "\u001b[?25l  Downloading https://files.pythonhosted.org/packages/62/94/5430ebaa83f91cc7a9f687ff5238e26164a779cca2ef9903232268b0a318/Pillow-5.3.0-cp36-cp36m-manylinux1_x86_64.whl (2.0MB)\n",
            "\u001b[K    100% |████████████████████████████████| 2.0MB 12.3MB/s \n",
            "\u001b[?25hRequirement already satisfied: torch in /usr/local/lib/python3.6/dist-packages (from torchvision) (0.4.1)\n",
            "Installing collected packages: pillow, torchvision\n",
            "  Found existing installation: Pillow 4.0.0\n",
            "    Uninstalling Pillow-4.0.0:\n",
            "      Successfully uninstalled Pillow-4.0.0\n",
            "Successfully installed pillow-5.3.0 torchvision-0.2.1\n",
            "Requirement already satisfied: Pillow in /usr/local/lib/python3.6/dist-packages (5.3.0)\n",
            "Collecting pretrainedmodels\n",
            "\u001b[?25l  Downloading https://files.pythonhosted.org/packages/84/0e/be6a0e58447ac16c938799d49bfb5fb7a80ac35e137547fc6cee2c08c4cf/pretrainedmodels-0.7.4.tar.gz (58kB)\n",
            "\u001b[K    100% |████████████████████████████████| 61kB 5.4MB/s \n",
            "\u001b[?25hRequirement already satisfied: torch in /usr/local/lib/python3.6/dist-packages (from pretrainedmodels) (0.4.1)\n",
            "Requirement already satisfied: torchvision in /usr/local/lib/python3.6/dist-packages (from pretrainedmodels) (0.2.1)\n",
            "Collecting munch (from pretrainedmodels)\n",
            "  Downloading https://files.pythonhosted.org/packages/68/f4/260ec98ea840757a0da09e0ed8135333d59b8dfebe9752a365b04857660a/munch-2.3.2.tar.gz\n",
            "Requirement already satisfied: tqdm in /usr/local/lib/python3.6/dist-packages (from pretrainedmodels) (4.28.1)\n",
            "Requirement already satisfied: six in /usr/local/lib/python3.6/dist-packages (from torchvision->pretrainedmodels) (1.11.0)\n",
            "Requirement already satisfied: numpy in /usr/local/lib/python3.6/dist-packages (from torchvision->pretrainedmodels) (1.14.6)\n",
            "Requirement already satisfied: pillow>=4.1.1 in /usr/local/lib/python3.6/dist-packages (from torchvision->pretrainedmodels) (5.3.0)\n",
            "Building wheels for collected packages: pretrainedmodels, munch\n",
            "  Running setup.py bdist_wheel for pretrainedmodels ... \u001b[?25l-\b \b\\\b \bdone\n",
            "\u001b[?25h  Stored in directory: /root/.cache/pip/wheels/69/df/63/62583c096289713f22db605aa2334de5b591d59861a02c2ecd\n",
            "  Running setup.py bdist_wheel for munch ... \u001b[?25l-\b \bdone\n",
            "\u001b[?25h  Stored in directory: /root/.cache/pip/wheels/db/bf/bc/06a3e1bfe0ab27d2e720ceb3cff3159398d92644c0cec2c125\n",
            "Successfully built pretrainedmodels munch\n",
            "Installing collected packages: munch, pretrainedmodels\n",
            "Successfully installed munch-2.3.2 pretrainedmodels-0.7.4\n"
          ],
          "name": "stdout"
        }
      ]
    },
    {
      "metadata": {
        "id": "4gA-Aj9a0SOu",
        "colab_type": "code",
        "colab": {}
      },
      "cell_type": "code",
      "source": [
        "import os\n",
        "import cv2\n",
        "import torch\n",
        "import numpy as np\n",
        "import pandas as pd\n",
        "from PIL import Image\n",
        "import torch.nn as nn\n",
        "from zipfile import ZipFile\n",
        "import torch.nn.functional as F\n",
        "from torchvision import transforms\n",
        "from torch.utils.data import Dataset, DataLoader\n",
        "from torch.utils.data.sampler import SubsetRandomSampler\n",
        "import matplotlib.pyplot as plt\n",
        "# Ignore warnings\n",
        "import warnings\n",
        "warnings.filterwarnings(\"ignore\")\n",
        "from pydrive.auth import GoogleAuth\n",
        "from pydrive.drive import GoogleDrive\n",
        "from google.colab import auth\n",
        "from oauth2client.client import GoogleCredentials\n",
        "import torchvision\n",
        "import torchvision.transforms.functional as TF\n",
        "import random\n",
        "%matplotlib inline\n",
        "from IPython import display\n",
        "import pretrainedmodels"
      ],
      "execution_count": 0,
      "outputs": []
    },
    {
      "metadata": {
        "id": "WKAk5dcngG_B",
        "colab_type": "code",
        "colab": {}
      },
      "cell_type": "code",
      "source": [
        "from PIL import Image\n",
        "def register_extension(id, extension): Image.EXTENSION[extension.lower()] = id.upper()\n",
        "Image.register_extension = register_extension\n",
        "def register_extensions(id, extensions): \n",
        "    for extension in extensions: register_extension(id, extension)\n",
        "Image.register_extensions = register_extensions"
      ],
      "execution_count": 0,
      "outputs": []
    },
    {
      "metadata": {
        "id": "XAcI93TX0YCJ",
        "colab_type": "code",
        "colab": {}
      },
      "cell_type": "code",
      "source": [
        "auth.authenticate_user()\n",
        "gauth = GoogleAuth()\n",
        "gauth.credentials = GoogleCredentials.get_application_default()\n",
        "drive = GoogleDrive(gauth)"
      ],
      "execution_count": 0,
      "outputs": []
    },
    {
      "metadata": {
        "id": "ami7WNZc1Erj",
        "colab_type": "text"
      },
      "cell_type": "markdown",
      "source": [
        "## List the files present in the drive and download the dataset"
      ]
    },
    {
      "metadata": {
        "id": "ITABPygY1NSv",
        "colab_type": "code",
        "colab": {
          "base_uri": "https://localhost:8080/",
          "height": 201
        },
        "outputId": "61933ce6-8c01-47e1-bcc5-468989935df3"
      },
      "cell_type": "code",
      "source": [
        "listed = drive.ListFile().GetList()\n",
        "for file in listed[:10]:\n",
        "    print('title {}, id {}'.format(file['title'], file['id']))"
      ],
      "execution_count": 4,
      "outputs": [
        {
          "output_type": "stream",
          "text": [
            "title KaggleOverfitedTGS.ipynb, id 1Z6SJCxTF5PjBxxWtgOQL9eZUCusnatyu\n",
            "title North Kolkata Class Schedule, id 1yk7ky5KkQUe4av7IfPK4_8nlFsEYwcaC9gaxyB_aJnM\n",
            "title raw.zip, id 1MwjE6MUY4OnkTytUMTZKa9WskD43_-Al\n",
            "title Untitled, id 1QeyytxboPNzYKF1gMY_2dxW1H1HyzCYX\n",
            "title TGSUNetLinDrpout_epoch66.pt, id 18hmZfahWtQlk3N9FFumsgZXurrkhuKNc\n",
            "title TGSUNetLinDrpout_epoch61.pt, id 1X9dffcBKTkUDBBviU3qqV8kCQhPWwIk2\n",
            "title unet_65(2)(2)(4).ipynb, id 12qrSC4GZWTNRCyESDhTCwwvdoBU7mYTl\n",
            "title submissions_unet_72.csv, id 13AjwjmuQUInx6MldiOiFeEVAkspDRDAN\n",
            "title TGSUNetLinDrpout_epoch56.pt, id 17E9nWablWBUOVsbPflamN_QljW2OtZ1M\n",
            "title TGSUNetLinDrpout_epoch51.pt, id 1HkX_GzJnuDfqPyVRKFhs8Z1o2g5hmujX\n"
          ],
          "name": "stdout"
        }
      ]
    },
    {
      "metadata": {
        "id": "8_w2GF_C1WdY",
        "colab_type": "code",
        "colab": {}
      },
      "cell_type": "code",
      "source": [
        "downloaded = drive.CreateFile({'id': '1MwjE6MUY4OnkTytUMTZKa9WskD43_-Al'})\n",
        "downloaded.GetContentFile('train.zip')\n",
        "with ZipFile(\"train.zip\", 'r') as z:\n",
        "    z.extractall()\n",
        "os.remove(\"train.zip\")"
      ],
      "execution_count": 0,
      "outputs": []
    },
    {
      "metadata": {
        "id": "eeH39q0D5BeN",
        "colab_type": "code",
        "colab": {
          "base_uri": "https://localhost:8080/",
          "height": 35
        },
        "outputId": "9a5a5ab1-5d66-40c3-81b6-6c39d9562293"
      },
      "cell_type": "code",
      "source": [
        "os.listdir()"
      ],
      "execution_count": 6,
      "outputs": [
        {
          "output_type": "execute_result",
          "data": {
            "text/plain": [
              "['sample_data', '.config', 'train.csv', 'train', 'depths.csv', 'adc.json']"
            ]
          },
          "metadata": {
            "tags": []
          },
          "execution_count": 6
        }
      ]
    },
    {
      "metadata": {
        "id": "p51Hkx78Yeon",
        "colab_type": "text"
      },
      "cell_type": "markdown",
      "source": [
        "## Some utility functions"
      ]
    },
    {
      "metadata": {
        "id": "Z4QR3kGWcMSH",
        "colab_type": "code",
        "colab": {}
      },
      "cell_type": "code",
      "source": [
        "def normalize(df,cols,dtype = 'float16'):\n",
        "    data = df\n",
        "    for col in cols:\n",
        "        data[col] = ((data[col]-data[col].mean())/(data[col].max()-data[col].min())).astype(dtype)\n",
        "    return data\n",
        "def display_tensor(x):\n",
        "    if type(x) is tuple:\n",
        "        img,msk = x\n",
        "        fig, axes = plt.subplots(ncols=2,nrows=1)\n",
        "        axes.ravel()[0].imshow(img[0,:,:].cpu().numpy(),cmap='gray')\n",
        "        axes.ravel()[0].set_title('Image')\n",
        "        axes.ravel()[1].imshow(msk[0,:,:].numpy(),cmap='gray')\n",
        "        axes.ravel()[1].set_title('Mask')\n",
        "        plt.show()\n",
        "    else:\n",
        "        plt.imshow(x[0,:,:].cpu().numpy(),cmap='gray')\n",
        "def adjust_learning_rate(optimizerr,lr):\n",
        "    for param_group in optimizerr.param_groups:\n",
        "        param_group['lr'] = lr\n",
        "def save_checkpoint(state, filename='checkpoint.pth.tar'):\n",
        "    auth.authenticate_user()\n",
        "    gauth = GoogleAuth()\n",
        "    gauth.credentials = GoogleCredentials.get_application_default()\n",
        "    drive = GoogleDrive(gauth)\n",
        "    torch.save(state, filename)\n",
        "    uploaded = drive.CreateFile({'title': 'MixNetv1_epoch'+str(state['epoch'])+'.pt'})\n",
        "    uploaded.SetContentFile(filename)\n",
        "    uploaded.Upload()\n",
        "def load_checkpoint(args):\n",
        "     \n",
        "    if os.path.isfile(args):\n",
        "        print(\"=> loading checkpoint '{}'\".format(args))\n",
        "        checkpoint = torch.load(args)\n",
        "        epoch = checkpoint['epoch']\n",
        "        model.load_state_dict(checkpoint['state_dict'])\n",
        "        optimizer.load_state_dict(checkpoint['optimizer'])\n",
        "        print(\"=> loaded checkpoint '{}' (epoch {})\"\n",
        "              .format(args, checkpoint['epoch']))\n",
        "    else:\n",
        "        print(\"=> no checkpoint found at '{}'\".format(args.resume))\n",
        "        "
      ],
      "execution_count": 0,
      "outputs": []
    },
    {
      "metadata": {
        "id": "WQqHFGhDI3hB",
        "colab_type": "text"
      },
      "cell_type": "markdown",
      "source": [
        "# Dataset Class"
      ]
    },
    {
      "metadata": {
        "id": "g7cGzjj-I56S",
        "colab_type": "code",
        "colab": {}
      },
      "cell_type": "code",
      "source": [
        "class TGS_dataset(Dataset):\n",
        "    '''\n",
        "    This is the dataset class that feeds the data to the model.\n",
        "    It has been created with a specific file organization in mind as given below:\n",
        "    test.csv\n",
        "    root/\n",
        "      |---train.csv\n",
        "      |---depths.csv\n",
        "      |--train/\n",
        "      |   |---images/\n",
        "      |   |       -images...\n",
        "      |   |---masks/\n",
        "      |          -masks...\n",
        "      |--test/\n",
        "      |   |---images/\n",
        "      |   |       -images...\n",
        "      |   |---masks/\n",
        "      |          -masks...\n",
        "       \n",
        "      The transform method can be made more efficient while running on test by checking is_train=False and then skipping over mask\n",
        "    '''\n",
        "    def __init__(self,root='./',is_train=True):\n",
        "        depths = normalize(pd.read_csv(root+'depths.csv'), ['z'])\n",
        "        if(is_train):\n",
        "            self.input = pd.read_csv(root+'train.csv').merge(depths, on='id', how='left')\n",
        "            self.input.drop(['rle_mask'], axis=1, inplace=True)\n",
        "            self.image_dir = root+'train/images'\n",
        "            self.mask_dir = root+'train/masks'\n",
        "        else:\n",
        "            self.input = pd.read_csv('test.csv').merge(depths, on='id', how='left')\n",
        "            self.image_dir = root+'test/images'\n",
        "        self.is_train = is_train\n",
        "        \n",
        "    \n",
        "    def __len__(self):\n",
        "        return len(self.input)\n",
        "\n",
        "    \n",
        "    def transform(self,image,mask,depth):\n",
        "#         image, mask =  TF.to_grayscale(image), TF.to_grayscale(mask)\n",
        "        mask = TF.to_grayscale(mask)\n",
        "        resize = transforms.Resize((128,128))\n",
        "        image,mask = resize(image), resize(mask)\n",
        "        # Random horizontal flipping\n",
        "        if random.random() > 0.5:\n",
        "            image = TF.hflip(image)\n",
        "            mask = TF.hflip(mask)\n",
        "\n",
        "        # Random vertical flipping\n",
        "        if random.random() > 0.5:\n",
        "            image = TF.vflip(image)\n",
        "            mask = TF.vflip(mask)\n",
        "\n",
        "        # Transform to tensor\n",
        "        image = TF.to_tensor(image)\n",
        "        mask = TF.to_tensor(mask).view(128,128)\n",
        "\n",
        "        # append depth data to image\n",
        "#         d = torch.ones((1)).new_full((1,128,128),depth)\n",
        "#         image = torch.cat((image,d),0)\n",
        "\n",
        "        return image, mask\n",
        "        \n",
        "            \n",
        "    def __getitem__(self, idx):\n",
        "        img_name = os.path.join(self.image_dir,self.input.iloc[idx,0]+\".png\")\n",
        "        img = Image.open(img_name)\n",
        "        if self.is_train :\n",
        "            msk = Image.open(os.path.join(self.mask_dir,self.input.iloc[idx,0]+\".png\"))\n",
        "        else:\n",
        "            msk = img\n",
        "        depth = self.input.iloc[idx,1]\n",
        "        img,msk = self.transform(img,msk,float(depth))\n",
        "        if self.is_train: return img,msk\n",
        "        else : return img"
      ],
      "execution_count": 0,
      "outputs": []
    },
    {
      "metadata": {
        "id": "ALv3mSmeXzkT",
        "colab_type": "code",
        "colab": {}
      },
      "cell_type": "code",
      "source": [
        "train_dataset = TGS_dataset(is_train = True)"
      ],
      "execution_count": 0,
      "outputs": []
    },
    {
      "metadata": {
        "id": "c77lFWMVXhEC",
        "colab_type": "text"
      },
      "cell_type": "markdown",
      "source": [
        "# Model Area"
      ]
    },
    {
      "metadata": {
        "id": "HM2uWdH-Xotg",
        "colab_type": "code",
        "colab": {}
      },
      "cell_type": "code",
      "source": [
        "class Down(nn.Module):\n",
        "    def __init__(self,in_channels,out_channels):\n",
        "        super(Down, self).__init__()\n",
        "        self.down = nn.Sequential(nn.Conv2d(in_channels,out_channels,(3,3),stride=1, padding=1),\n",
        "                                 nn.AvgPool2d(kernel_size=(2,2)),\n",
        "                                 nn.BatchNorm2d(out_channels),\n",
        "                                  nn.ReLU()\n",
        "                                 )\n",
        "    def forward(self,x):\n",
        "#         print(x.shape)\n",
        "        return self.down(x)"
      ],
      "execution_count": 0,
      "outputs": []
    },
    {
      "metadata": {
        "id": "lZMhEnGQdzoZ",
        "colab_type": "code",
        "colab": {}
      },
      "cell_type": "code",
      "source": [
        "class Up(nn.Module):\n",
        "    def __init__(self,in_channels, out_channels,size):\n",
        "        super(Up,self).__init__()\n",
        "#         self.upscale = nn.Upsample(scale_factor= 2)\n",
        "        self.upscale = nn.ConvTranspose2d(in_channels = in_channels, out_channels = out_channels, kernel_size = (2,2),stride=2)\n",
        "        self.bn = nn.BatchNorm2d(out_channels)\n",
        "        self.out_channels = out_channels\n",
        "        self.nonlin1 = nn.ReLU()\n",
        "        self.nonlin2 = nn.ReLU()\n",
        "        self.size = size\n",
        "        self.noe = size ** 2\n",
        "        \n",
        "#         self.bilinear = nn.Bilinear(self.noe ,self.noe ,self.noe )\n",
        "                \n",
        "    def forward(self,x1, x2):\n",
        "        x1 = self.upscale(x1)\n",
        "        x1 = self.bn(x1)\n",
        "        x1 = self.nonlin1(x1)\n",
        "#         print(x1.shape)\n",
        "#         print(x2.shape)\n",
        "        x = torch.cat((x1, x2),dim=1)\n",
        "        return x"
      ],
      "execution_count": 0,
      "outputs": []
    },
    {
      "metadata": {
        "id": "7eteCM3sd1kR",
        "colab_type": "code",
        "colab": {}
      },
      "cell_type": "code",
      "source": [
        "class Decoder(nn.Module):\n",
        "    def __init__(self,no_features=2048,in_size=(4,4),out_size=(128,128),in_channels=3):\n",
        "        super(Decoder,self).__init__()\n",
        "        self.down1 = Down(in_channels,32)\n",
        "        self.down2 = Down(32,128)\n",
        "        self.down3 = Down(128,256)\n",
        "        self.down4 = Down(256,512)\n",
        "        \n",
        "        self.up1 = Up(2048, 512, 8)\n",
        "        self.up2 = Up(1024, 256, 16)\n",
        "        self.up3 = Up(512, 128, 32)\n",
        "        self.up4 = Up(256, 32, 64)\n",
        "        self.up5 = Up(64,5,128)\n",
        "        \n",
        "        \n",
        "    def forward(self,img,feats):\n",
        "        x1 = self.down1(img)\n",
        "        x2 = self.down2(x1)\n",
        "        x3 = self.down3(x2)\n",
        "        x4 = self.down4(x3)\n",
        "        \n",
        "        x = self.up1(feats, x4)\n",
        "        x = self.up2(x,x3)\n",
        "        x = self.up3(x, x2)\n",
        "        x = self.up4(x,x1)\n",
        "        x = self.up5(x,img)\n",
        "        return x"
      ],
      "execution_count": 0,
      "outputs": []
    },
    {
      "metadata": {
        "id": "-xULd5g7RtYE",
        "colab_type": "text"
      },
      "cell_type": "markdown",
      "source": [
        "### importing Se Resnext 50 trained on imagenet"
      ]
    },
    {
      "metadata": {
        "id": "a23h4ycMQrIc",
        "colab_type": "code",
        "colab": {}
      },
      "cell_type": "code",
      "source": [
        "class MixNet(nn.Module):\n",
        "    def __init__(self,in_channels = 3, out_channels=1, base= 'se_resnext50_32x4d'):\n",
        "        super(MixNet, self).__init__()\n",
        "        self.resnet = pretrainedmodels.__dict__[base](num_classes=1000, pretrained='imagenet')\n",
        "        self.decoder = Decoder()\n",
        "        self.conv1 = nn.Conv3d(1,1,kernel_size=(8,1,1),stride=(8,1,1))\n",
        "        self.conv2 = nn.Conv2d(1,2,kernel_size=3,padding=1)\n",
        "       \n",
        "        \n",
        "    def forward(self,x):\n",
        "        feats = self.resnet.features(x)\n",
        "        x = self.decoder(x,feats)\n",
        "        x.unsqueeze_(1)\n",
        "        x = self.conv1(x)\n",
        "        x.squeeze_(1)\n",
        "        x = self.conv2(x)\n",
        "        return F.softmax(x)"
      ],
      "execution_count": 0,
      "outputs": []
    },
    {
      "metadata": {
        "id": "HPrgWtu2wXtU",
        "colab_type": "code",
        "colab": {}
      },
      "cell_type": "code",
      "source": [
        "batch_size = 50\n",
        "validation_split = 0.1\n",
        "shuffle_dataset = True\n",
        "random_seed= 42\n",
        "# Creating data indices for training and validation splits:\n",
        "dataset_size = len(train_dataset)\n",
        "indices = list(range(dataset_size))\n",
        "split = int(np.floor(validation_split * dataset_size))\n",
        "if shuffle_dataset :\n",
        "    np.random.seed(random_seed)\n",
        "    np.random.shuffle(indices)\n",
        "train_indices, val_indices = indices[split:], indices[:split]\n",
        "\n",
        "# Creating PT data samplers and loaders:\n",
        "train_sampler = SubsetRandomSampler(train_indices)\n",
        "validation_sampler = SubsetRandomSampler(val_indices)\n",
        "train_loader = torch.utils.data.DataLoader(train_dataset,batch_size=batch_size,sampler=train_sampler)\n",
        "validation_loader = torch.utils.data.DataLoader(train_dataset, batch_size=batch_size,sampler=validation_sampler)"
      ],
      "execution_count": 0,
      "outputs": []
    },
    {
      "metadata": {
        "id": "ILpmwaDtwXth",
        "colab_type": "code",
        "colab": {}
      },
      "cell_type": "code",
      "source": [
        "class BinaryCrossEntropyLoss2d(nn.Module):\n",
        "    def __init__(self, weight=None, size_average=True):\n",
        "        \"\"\"\n",
        "        Binary cross entropy loss 2D\n",
        "        Args:\n",
        "            weight:\n",
        "            size_average:\n",
        "        \"\"\"\n",
        "        super(BinaryCrossEntropyLoss2d, self).__init__()\n",
        "        self.bce_loss = nn.BCELoss(weight, size_average)\n",
        "        if torch.cuda.is_available():\n",
        "            self.bce_loss = self.bce_loss.cuda()\n",
        "        self.threshold = torch.tensor(0.3,requires_grad=True).cuda()\n",
        "\n",
        "    def forward(self, pred, target):\n",
        "#         pred = F.sigmoid(pred)\n",
        "        threshold=0.3\n",
        "        pred1 = ((pred>(1-self.threshold)) * (pred<(1+self.threshold))).float().cuda()\n",
        "        pred1 = pred1.view(-1)  # Flatten\n",
        "        target = target.view(-1)  # Flatten\n",
        "        return self.bce_loss(pred1, target)"
      ],
      "execution_count": 0,
      "outputs": []
    },
    {
      "metadata": {
        "id": "cLvCr3IQwXtm",
        "colab_type": "code",
        "colab": {}
      },
      "cell_type": "code",
      "source": [
        "class SoftDiceLoss(nn.Module):\n",
        "    def __init__(self):\n",
        "        super(SoftDiceLoss, self).__init__()\n",
        "    def forward(self, pred, target):\n",
        "        smooth = 1\n",
        "        num = target.size(0)\n",
        "        #pred = F.sigmoid(pred)\n",
        "        pred = pred.view(num, -1)\n",
        "        target = target.view(num, -1)\n",
        "        intersection = (pred * target)\n",
        "        score = 2. * (intersection.sum(1) + smooth) / (pred.sum(1) + target.sum(1) + smooth)\n",
        "        score = 1 - score.sum() / num\n",
        "        return score"
      ],
      "execution_count": 0,
      "outputs": []
    },
    {
      "metadata": {
        "id": "9CU7PcdGwXtt",
        "colab_type": "code",
        "colab": {}
      },
      "cell_type": "code",
      "source": [
        "def dice_coeff(pred, target):\n",
        "    smooth = 1.\n",
        "    num = target.size(0)\n",
        "    pred = pred.view(num, -1)  # Flatten\n",
        "    target = target.view(num, -1)  # Flatten\n",
        "    intersection = (pred * target)\n",
        "    score = (2. * intersection.sum(1) + smooth).float() / (pred.sum(1) + target.sum(1) + smooth).float()\n",
        "    return score.sum()/num"
      ],
      "execution_count": 0,
      "outputs": []
    },
    {
      "metadata": {
        "id": "QcxIxXq5wXtz",
        "colab_type": "code",
        "colab": {}
      },
      "cell_type": "code",
      "source": [
        "def bce_dice_loss(y_true, y_pred):\n",
        "    return 0.5*BinaryCrossEntropyLoss2d()(y_true, y_pred)-dice_coeff(y_true, y_pred)"
      ],
      "execution_count": 0,
      "outputs": []
    },
    {
      "metadata": {
        "id": "OL9OQNTawXt-",
        "colab_type": "code",
        "colab": {}
      },
      "cell_type": "code",
      "source": [
        "model=MixNet().float()\n",
        "criterion =  nn.CrossEntropyLoss()\n",
        "optimizer = torch.optim.SGD(model.parameters(), lr = 0.1, momentum=0.9)\n",
        "exp_lr_scheduler = torch.optim.lr_scheduler.StepLR(optimizer, step_size=30, gamma=0.1)\n",
        "if torch.cuda.is_available():\n",
        "    model = model.cuda()"
      ],
      "execution_count": 0,
      "outputs": []
    },
    {
      "metadata": {
        "id": "krdeJDd5wXuL",
        "colab_type": "code",
        "colab": {}
      },
      "cell_type": "code",
      "source": [
        "def validate():\n",
        "    total_loss = 0\n",
        "    total_accuracy = 0\n",
        "    model.eval()\n",
        "    for batch_idx, (data,target) in enumerate(validation_loader):\n",
        "        if torch.cuda.is_available():\n",
        "            data = data.cuda()\n",
        "            target = target.cuda()\n",
        "        target = target.long()\n",
        "        # forward\n",
        "        output = model(data)\n",
        "        predict =torch.argmax(output, dim=1)\n",
        "        # backward + optimize\n",
        "        loss = criterion(output, target)\n",
        "        # print statistics\n",
        "        accuracy = dice_coeff(predict,target)\n",
        "        total_accuracy+=accuracy.item()\n",
        "        total_loss+=loss.item()\n",
        "    print('Validation Loss: {:.5f} Validation Accuracy: {:.5f}'.format(total_loss*batch_size/len(val_indices),total_accuracy*batch_size/len(val_indices)))\n",
        "    return total_loss,total_accuracy"
      ],
      "execution_count": 0,
      "outputs": []
    },
    {
      "metadata": {
        "id": "7ci5neK7wXuU",
        "colab_type": "code",
        "colab": {}
      },
      "cell_type": "code",
      "source": [
        "def train(epoch=1):\n",
        "    loss_train_data = []\n",
        "    accuracy_train_data = []\n",
        "    loss_test_data = []\n",
        "    accuracy_test_data = []\n",
        "    epoch_data=[]\n",
        "    while True:\n",
        "        total_loss = 0\n",
        "        total_accuracy = 0\n",
        "        model.train()\n",
        "#         if epoch%5==0:\n",
        "#             save_checkpoint({\n",
        "#                 'epoch': epoch + 1,\n",
        "#                 'state_dict': model.state_dict(),\n",
        "#                 'optimizer' : optimizer.state_dict(),\n",
        "#                 })\n",
        "        exp_lr_scheduler.step()\n",
        "        print(exp_lr_scheduler.get_lr())\n",
        "        for batch_idx, data in enumerate(train_loader):\n",
        "            X,target = data\n",
        "            target = target.long()\n",
        "            if torch.cuda.is_available():\n",
        "                X = X.cuda()\n",
        "                target = target.cuda()\n",
        "            # forward\n",
        "            output = model(X)\n",
        "            predict =torch.argmax(output, dim=1)\n",
        "            \n",
        "            # backward + optimize\n",
        "            loss = criterion(output, target)\n",
        "            optimizer.zero_grad()\n",
        "            loss.backward()\n",
        "            optimizer.step()\n",
        "            # print statistics\n",
        "            accuracy = dice_coeff(predict,target)\n",
        "            total_accuracy+=accuracy.item()\n",
        "            total_loss+=loss.item()\n",
        "            print('Epoch: {} [{}/{} ({:.0f}%)]\\tLoss: {:.5f}\\tAccuracy: {:.5f}'.format(epoch, (batch_idx + 1) * batch_size, len(train_indices),100*(batch_idx + 1)* batch_size / len(train_indices), loss.item(),accuracy))\n",
        "        print('Train Loss: {:.5f} Train Accuracy: {:.5f}'.format(total_loss*batch_size/len(train_indices),total_accuracy*batch_size/len(train_indices)))\n",
        "        loss,accuracy = validate()\n",
        "        # Data append\n",
        "        loss_train_data.append(total_loss*batch_size/len(train_indices))\n",
        "        loss_test_data.append(loss*batch_size/len(val_indices))\n",
        "        accuracy_train_data.append(total_accuracy*batch_size/len(train_indices))\n",
        "        accuracy_test_data.append(accuracy*batch_size/len(val_indices))\n",
        "        epoch_data.append(epoch)\n",
        "        # Visualize\n",
        "        plt.figure(figsize=(10,5))\n",
        "#         plt.plot(epoch_data, loss_train_data,label=\"Train Loss {:.5f}\".format(loss_train_data[-1]))\n",
        "        plt.plot(epoch_data, accuracy_train_data,label=\"Train Accuracy {:.5f}\".format(accuracy_train_data[-1]))\n",
        "#         plt.plot(epoch_data,loss_test_data, label=\"Validation Loss {:.5f}\".format(loss_test_data[-1]))\n",
        "        plt.plot(epoch_data,accuracy_test_data,label=\"Validation Accuracy {:.5f}\".format(accuracy_test_data[-1]))\n",
        "        display.clear_output(wait=False)\n",
        "        plt.legend()\n",
        "        plt.show()\n",
        "        epoch+=1"
      ],
      "execution_count": 0,
      "outputs": []
    },
    {
      "metadata": {
        "id": "1XQF7jq5wXud",
        "colab_type": "code",
        "colab": {
          "base_uri": "https://localhost:8080/",
          "height": 1008
        },
        "outputId": "ea4de2ba-ed9f-4e2e-d631-ba31d61d7c39"
      },
      "cell_type": "code",
      "source": [
        "train()"
      ],
      "execution_count": 23,
      "outputs": [
        {
          "output_type": "display_data",
          "data": {
            "image/png": "[encoded data removed]",
            "text/plain": [
              "<matplotlib.figure.Figure at 0x7fd4a5b0d550>"
            ]
          },
          "metadata": {
            "tags": []
          }
        },
        {
          "output_type": "stream",
          "text": [
            "[0.0010000000000000002]\n",
            "Epoch: 71 [50/3600 (1%)]\tLoss: 0.34766\tAccuracy: 0.84166\n",
            "Epoch: 71 [100/3600 (3%)]\tLoss: 0.34470\tAccuracy: 0.88358\n",
            "Epoch: 71 [150/3600 (4%)]\tLoss: 0.32510\tAccuracy: 0.87860\n",
            "Epoch: 71 [200/3600 (6%)]\tLoss: 0.34981\tAccuracy: 0.88841\n",
            "Epoch: 71 [250/3600 (7%)]\tLoss: 0.32377\tAccuracy: 0.89879\n",
            "Epoch: 71 [300/3600 (8%)]\tLoss: 0.33073\tAccuracy: 0.91378\n",
            "Epoch: 71 [350/3600 (10%)]\tLoss: 0.32863\tAccuracy: 0.92649\n"
          ],
          "name": "stdout"
        },
        {
          "output_type": "error",
          "ename": "KeyboardInterrupt",
          "evalue": "ignored",
          "traceback": [
            "\u001b[0;31m---------------------------------------------------------------------------\u001b[0m",
            "\u001b[0;31mKeyboardInterrupt\u001b[0m                         Traceback (most recent call last)",
            "\u001b[0;32m<ipython-input-23-2da0ffaf5447>\u001b[0m in \u001b[0;36m<module>\u001b[0;34m()\u001b[0m\n\u001b[0;32m----> 1\u001b[0;31m \u001b[0mtrain\u001b[0m\u001b[0;34m(\u001b[0m\u001b[0;34m)\u001b[0m\u001b[0;34m\u001b[0m\u001b[0m\n\u001b[0m",
            "\u001b[0;32m<ipython-input-21-1186bdf0e9e5>\u001b[0m in \u001b[0;36mtrain\u001b[0;34m(epoch)\u001b[0m\n\u001b[1;32m     30\u001b[0m             \u001b[0mloss\u001b[0m \u001b[0;34m=\u001b[0m \u001b[0mcriterion\u001b[0m\u001b[0;34m(\u001b[0m\u001b[0moutput\u001b[0m\u001b[0;34m,\u001b[0m \u001b[0mtarget\u001b[0m\u001b[0;34m)\u001b[0m\u001b[0;34m\u001b[0m\u001b[0m\n\u001b[1;32m     31\u001b[0m             \u001b[0moptimizer\u001b[0m\u001b[0;34m.\u001b[0m\u001b[0mzero_grad\u001b[0m\u001b[0;34m(\u001b[0m\u001b[0;34m)\u001b[0m\u001b[0;34m\u001b[0m\u001b[0m\n\u001b[0;32m---> 32\u001b[0;31m             \u001b[0mloss\u001b[0m\u001b[0;34m.\u001b[0m\u001b[0mbackward\u001b[0m\u001b[0;34m(\u001b[0m\u001b[0;34m)\u001b[0m\u001b[0;34m\u001b[0m\u001b[0m\n\u001b[0m\u001b[1;32m     33\u001b[0m             \u001b[0moptimizer\u001b[0m\u001b[0;34m.\u001b[0m\u001b[0mstep\u001b[0m\u001b[0;34m(\u001b[0m\u001b[0;34m)\u001b[0m\u001b[0;34m\u001b[0m\u001b[0m\n\u001b[1;32m     34\u001b[0m             \u001b[0;31m# print statistics\u001b[0m\u001b[0;34m\u001b[0m\u001b[0;34m\u001b[0m\u001b[0m\n",
            "\u001b[0;32m/usr/local/lib/python3.6/dist-packages/torch/tensor.py\u001b[0m in \u001b[0;36mbackward\u001b[0;34m(self, gradient, retain_graph, create_graph)\u001b[0m\n\u001b[1;32m     91\u001b[0m                 \u001b[0mproducts\u001b[0m\u001b[0;34m.\u001b[0m \u001b[0mDefaults\u001b[0m \u001b[0mto\u001b[0m\u001b[0;31m \u001b[0m\u001b[0;31m`\u001b[0m\u001b[0;31m`\u001b[0m\u001b[0;32mFalse\u001b[0m\u001b[0;31m`\u001b[0m\u001b[0;31m`\u001b[0m\u001b[0;34m.\u001b[0m\u001b[0;34m\u001b[0m\u001b[0m\n\u001b[1;32m     92\u001b[0m         \"\"\"\n\u001b[0;32m---> 93\u001b[0;31m         \u001b[0mtorch\u001b[0m\u001b[0;34m.\u001b[0m\u001b[0mautograd\u001b[0m\u001b[0;34m.\u001b[0m\u001b[0mbackward\u001b[0m\u001b[0;34m(\u001b[0m\u001b[0mself\u001b[0m\u001b[0;34m,\u001b[0m \u001b[0mgradient\u001b[0m\u001b[0;34m,\u001b[0m \u001b[0mretain_graph\u001b[0m\u001b[0;34m,\u001b[0m \u001b[0mcreate_graph\u001b[0m\u001b[0;34m)\u001b[0m\u001b[0;34m\u001b[0m\u001b[0m\n\u001b[0m\u001b[1;32m     94\u001b[0m \u001b[0;34m\u001b[0m\u001b[0m\n\u001b[1;32m     95\u001b[0m     \u001b[0;32mdef\u001b[0m \u001b[0mregister_hook\u001b[0m\u001b[0;34m(\u001b[0m\u001b[0mself\u001b[0m\u001b[0;34m,\u001b[0m \u001b[0mhook\u001b[0m\u001b[0;34m)\u001b[0m\u001b[0;34m:\u001b[0m\u001b[0;34m\u001b[0m\u001b[0m\n",
            "\u001b[0;32m/usr/local/lib/python3.6/dist-packages/torch/autograd/__init__.py\u001b[0m in \u001b[0;36mbackward\u001b[0;34m(tensors, grad_tensors, retain_graph, create_graph, grad_variables)\u001b[0m\n\u001b[1;32m     88\u001b[0m     Variable._execution_engine.run_backward(\n\u001b[1;32m     89\u001b[0m         \u001b[0mtensors\u001b[0m\u001b[0;34m,\u001b[0m \u001b[0mgrad_tensors\u001b[0m\u001b[0;34m,\u001b[0m \u001b[0mretain_graph\u001b[0m\u001b[0;34m,\u001b[0m \u001b[0mcreate_graph\u001b[0m\u001b[0;34m,\u001b[0m\u001b[0;34m\u001b[0m\u001b[0m\n\u001b[0;32m---> 90\u001b[0;31m         allow_unreachable=True)  # allow_unreachable flag\n\u001b[0m\u001b[1;32m     91\u001b[0m \u001b[0;34m\u001b[0m\u001b[0m\n\u001b[1;32m     92\u001b[0m \u001b[0;34m\u001b[0m\u001b[0m\n",
            "\u001b[0;31mKeyboardInterrupt\u001b[0m: "
          ]
        }
      ]
    },
    {
      "metadata": {
        "id": "Gxraqy4nfoB_",
        "colab_type": "code",
        "colab": {
          "base_uri": "https://localhost:8080/",
          "height": 54
        },
        "outputId": "d3e4a136-b520-4656-80cb-de24b7e3c73b"
      },
      "cell_type": "code",
      "source": [
        "validate()"
      ],
      "execution_count": 22,
      "outputs": [
        {
          "output_type": "stream",
          "text": [
            "Validation Loss: 0.67177 Validation Accuracy: 0.34218\n"
          ],
          "name": "stdout"
        },
        {
          "output_type": "execute_result",
          "data": {
            "text/plain": [
              "(5.37412166595459, 2.7374233305454254)"
            ]
          },
          "metadata": {
            "tags": []
          },
          "execution_count": 22
        }
      ]
    },
    {
      "metadata": {
        "id": "qYFODkVXiwGn",
        "colab_type": "code",
        "colab": {}
      },
      "cell_type": "code",
      "source": [
        ""
      ],
      "execution_count": 0,
      "outputs": []
    },
    {
      "metadata": {
        "id": "Tp6hWpoo0Gj_",
        "colab_type": "text"
      },
      "cell_type": "markdown",
      "source": [
        "# Review \n",
        "Big improvement over last time(incorect implamentation)\n",
        "This shall serve as our baseline for future experiments\n",
        "The model starts to converge with about 0.88 dice score on train and 0.85 on validation\n",
        "The hyperparameters are very much arbitrary and hence there is lot of scope to improve that\n",
        "## Remarks\n",
        "- slight overfitting (expected more because of no dropout but random flips and resnext's features are quite balancing the absence of regularization)\n",
        "\n",
        "- the final conv2d with padding maybe giving wrong values for boundary pixels that make up (4*127)/2^14 or about 3% \n",
        "\n",
        "## Future scope\n",
        "- lovasz loss\n",
        "\n",
        "- other pretrained models\n",
        "\n"
      ]
    }
  ]
}
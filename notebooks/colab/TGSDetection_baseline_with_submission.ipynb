{
  "nbformat": 4,
  "nbformat_minor": 0,
  "metadata": {
    "colab": {
      "name": "TGSDetection_base.ipynb",
      "version": "0.3.2",
      "provenance": [],
      "collapsed_sections": [],
      "toc_visible": true
    },
    "kernelspec": {
      "name": "python3",
      "display_name": "Python 3"
    },
    "accelerator": "GPU"
  },
  "cells": [
    {
      "metadata": {
        "id": "TGhrHUvK0nzy",
        "colab_type": "text"
      },
      "cell_type": "markdown",
      "source": [
        "# Installation and neccessary imports"
      ]
    },
    {
      "metadata": {
        "id": "GU_WaXquzzfK",
        "colab_type": "code",
        "colab": {}
      },
      "cell_type": "code",
      "source": [
        "!pip install torch\n",
        "!pip install torchvision\n",
        "!pip install Pillow\n",
        "!pip install -U -q PyDrive\n",
        "!pip install pretrainedmodels"
      ],
      "execution_count": 0,
      "outputs": []
    },
    {
      "metadata": {
        "id": "4gA-Aj9a0SOu",
        "colab_type": "code",
        "colab": {}
      },
      "cell_type": "code",
      "source": [
        "import os\n",
        "import cv2\n",
        "import torch\n",
        "import numpy as np\n",
        "import pandas as pd\n",
        "from PIL import Image\n",
        "import torch.nn as nn\n",
        "from zipfile import ZipFile\n",
        "import torch.nn.functional as F\n",
        "from torchvision import transforms\n",
        "from torch.utils.data import Dataset, DataLoader\n",
        "from torch.utils.data.sampler import SubsetRandomSampler\n",
        "import matplotlib.pyplot as plt\n",
        "# Ignore warnings\n",
        "import warnings\n",
        "warnings.filterwarnings(\"ignore\")\n",
        "from pydrive.auth import GoogleAuth\n",
        "from pydrive.drive import GoogleDrive\n",
        "from google.colab import auth\n",
        "from oauth2client.client import GoogleCredentials\n",
        "import torchvision\n",
        "import torchvision.transforms.functional as TF\n",
        "import random\n",
        "%matplotlib inline\n",
        "from IPython import display\n",
        "import pretrainedmodels"
      ],
      "execution_count": 0,
      "outputs": []
    },
    {
      "metadata": {
        "id": "WKAk5dcngG_B",
        "colab_type": "code",
        "colab": {}
      },
      "cell_type": "code",
      "source": [
        "# from PIL import Image\n",
        "# def register_extension(id, extension): Image.EXTENSION[extension.lower()] = id.upper()\n",
        "# Image.register_extension = register_extension\n",
        "# def register_extensions(id, extensions): \n",
        "#     for extension in extensions: register_extension(id, extension)\n",
        "# Image.register_extensions = register_extensions\n",
        "# not working :|"
      ],
      "execution_count": 0,
      "outputs": []
    },
    {
      "metadata": {
        "id": "XAcI93TX0YCJ",
        "colab_type": "code",
        "colab": {}
      },
      "cell_type": "code",
      "source": [
        "auth.authenticate_user()\n",
        "gauth = GoogleAuth()\n",
        "gauth.credentials = GoogleCredentials.get_application_default()\n",
        "drive = GoogleDrive(gauth)"
      ],
      "execution_count": 0,
      "outputs": []
    },
    {
      "metadata": {
        "id": "ami7WNZc1Erj",
        "colab_type": "text"
      },
      "cell_type": "markdown",
      "source": [
        "## List the files present in the drive and download the dataset"
      ]
    },
    {
      "metadata": {
        "id": "ITABPygY1NSv",
        "colab_type": "code",
        "colab": {}
      },
      "cell_type": "code",
      "source": [
        "listed = drive.ListFile().GetList()\n",
        "for file in listed[:10]:\n",
        "    print('title {}, id {}'.format(file['title'], file['id']))"
      ],
      "execution_count": 0,
      "outputs": []
    },
    {
      "metadata": {
        "id": "8_w2GF_C1WdY",
        "colab_type": "code",
        "colab": {}
      },
      "cell_type": "code",
      "source": [
        "downloaded = drive.CreateFile({'id': '1MwjE6MUY4OnkTytUMTZKa9WskD43_-Al'})\n",
        "downloaded.GetContentFile('train.zip')\n",
        "with ZipFile(\"train.zip\", 'r') as z:\n",
        "    z.extractall()\n",
        "os.remove(\"train.zip\")"
      ],
      "execution_count": 0,
      "outputs": []
    },
    {
      "metadata": {
        "id": "eeH39q0D5BeN",
        "colab_type": "code",
        "colab": {}
      },
      "cell_type": "code",
      "source": [
        "os.listdir()"
      ],
      "execution_count": 0,
      "outputs": []
    },
    {
      "metadata": {
        "id": "p51Hkx78Yeon",
        "colab_type": "text"
      },
      "cell_type": "markdown",
      "source": [
        "## Some utility functions"
      ]
    },
    {
      "metadata": {
        "id": "Z4QR3kGWcMSH",
        "colab_type": "code",
        "colab": {}
      },
      "cell_type": "code",
      "source": [
        "def normalize(df,cols,dtype = 'float16'):\n",
        "    data = df\n",
        "    for col in cols:\n",
        "        data[col] = ((data[col]-data[col].mean())/(data[col].max()-data[col].min())).astype(dtype)\n",
        "    return data\n",
        "def display_tensor(x):\n",
        "    if type(x) is tuple:\n",
        "        img,msk = x\n",
        "        fig, axes = plt.subplots(ncols=2,nrows=1)\n",
        "        axes.ravel()[0].imshow(img[0,:,:].cpu().numpy(),cmap='gray')\n",
        "        axes.ravel()[0].set_title('Image')\n",
        "        axes.ravel()[1].imshow(msk[0,:,:].numpy(),cmap='gray')\n",
        "        axes.ravel()[1].set_title('Mask')\n",
        "        plt.show()\n",
        "    else:\n",
        "        plt.imshow(x[0,:,:].cpu().numpy(),cmap='gray')\n",
        "def adjust_learning_rate(optimizerr,lr):\n",
        "    for param_group in optimizerr.param_groups:\n",
        "        param_group['lr'] = lr\n",
        "def adjust_momentum(optimizerr,lr):\n",
        "    for param_group in optimizerr.param_groups:\n",
        "        param_group['momentum'] = lr\n",
        "def save_checkpoint(state, filename='checkpoint.pth.tar'):\n",
        "    auth.authenticate_user()\n",
        "    gauth = GoogleAuth()\n",
        "    gauth.credentials = GoogleCredentials.get_application_default()\n",
        "    drive = GoogleDrive(gauth)\n",
        "    torch.save(state, filename)\n",
        "    uploaded = drive.CreateFile({'title': 'MixNetv2_epoch'+str(state['epoch'])+'.pt'})\n",
        "    uploaded.SetContentFile(filename)\n",
        "    uploaded.Upload()\n",
        "def load_checkpoint(args):\n",
        "     \n",
        "    if os.path.isfile(args):\n",
        "        print(\"=> loading checkpoint '{}'\".format(args))\n",
        "        checkpoint = torch.load(args)\n",
        "        epoch = checkpoint['epoch']\n",
        "        model.load_state_dict(checkpoint['state_dict'])\n",
        "        optimizer.load_state_dict(checkpoint['optimizer'])\n",
        "        print(\"=> loaded checkpoint '{}' (epoch {})\"\n",
        "              .format(args, checkpoint['epoch']))\n",
        "    else:\n",
        "        print(\"=> no checkpoint found at '{}'\".format(args.resume))\n",
        "        "
      ],
      "execution_count": 0,
      "outputs": []
    },
    {
      "metadata": {
        "id": "WQqHFGhDI3hB",
        "colab_type": "text"
      },
      "cell_type": "markdown",
      "source": [
        "# Dataset Class"
      ]
    },
    {
      "metadata": {
        "id": "g7cGzjj-I56S",
        "colab_type": "code",
        "colab": {}
      },
      "cell_type": "code",
      "source": [
        "class TGS_dataset(Dataset):\n",
        "    '''\n",
        "    This is the dataset class that feeds the data to the model.\n",
        "    It has been created with a specific file organization in mind as given below:\n",
        "    test.csv\n",
        "    root/\n",
        "      |---train.csv\n",
        "      |---depths.csv\n",
        "      |--train/\n",
        "      |   |---images/\n",
        "      |   |       -images...\n",
        "      |   |---masks/\n",
        "      |          -masks...\n",
        "      |--test/\n",
        "      |   |---images/\n",
        "      |   |       -images...\n",
        "      |   |---masks/\n",
        "      |          -masks...\n",
        "       \n",
        "      The transform method can be made more efficient while running on test by checking is_train=False and then skipping over mask\n",
        "    '''\n",
        "    def __init__(self,root='./',is_train=True):\n",
        "        depths = normalize(pd.read_csv(root+'depths.csv'), ['z'])\n",
        "        if(is_train):\n",
        "            self.input = pd.read_csv(root+'train.csv').merge(depths, on='id', how='left')\n",
        "            self.input.drop(['rle_mask'], axis=1, inplace=True)\n",
        "            self.image_dir = root+'train/images'\n",
        "            self.mask_dir = root+'train/masks'\n",
        "        else:\n",
        "            self.input = pd.read_csv('test.csv').merge(depths, on='id', how='left')\n",
        "            self.image_dir = root+'test/images'\n",
        "        self.is_train = is_train\n",
        "        \n",
        "    \n",
        "    def __len__(self):\n",
        "        return len(self.input)\n",
        "\n",
        "    \n",
        "    def transform(self,image,mask,depth):\n",
        "#         image, mask =  TF.to_grayscale(image), TF.to_grayscale(mask)\n",
        "        mask = TF.to_grayscale(mask)\n",
        "        resize = transforms.Resize((128,128))\n",
        "        image,mask = resize(image), resize(mask)\n",
        "        # Random horizontal flipping\n",
        "        if random.random() > 0.5:\n",
        "            image = TF.hflip(image)\n",
        "            mask = TF.hflip(mask)\n",
        "\n",
        "        # Random vertical flipping\n",
        "        if random.random() > 0.5:\n",
        "            image = TF.vflip(image)\n",
        "            mask = TF.vflip(mask)\n",
        "\n",
        "        # Transform to tensor\n",
        "        image = TF.to_tensor(image)\n",
        "        mask = TF.to_tensor(mask).view(128,128)\n",
        "\n",
        "        # append depth data to image\n",
        "#         d = torch.ones((1)).new_full((1,128,128),depth)\n",
        "#         image = torch.cat((image,d),0)\n",
        "\n",
        "        return image, mask\n",
        "        \n",
        "            \n",
        "    def __getitem__(self, idx):\n",
        "        img_name = os.path.join(self.image_dir,self.input.iloc[idx,0]+\".png\")\n",
        "        img = Image.open(img_name)\n",
        "        if self.is_train :\n",
        "            msk = Image.open(os.path.join(self.mask_dir,self.input.iloc[idx,0]+\".png\"))\n",
        "        else:\n",
        "            msk = img\n",
        "        depth = self.input.iloc[idx,1]\n",
        "        img,msk = self.transform(img,msk,float(depth))\n",
        "        if self.is_train: return img,msk\n",
        "        else : return img"
      ],
      "execution_count": 0,
      "outputs": []
    },
    {
      "metadata": {
        "id": "ALv3mSmeXzkT",
        "colab_type": "code",
        "colab": {}
      },
      "cell_type": "code",
      "source": [
        "train_dataset = TGS_dataset(is_train = True)"
      ],
      "execution_count": 0,
      "outputs": []
    },
    {
      "metadata": {
        "id": "c77lFWMVXhEC",
        "colab_type": "text"
      },
      "cell_type": "markdown",
      "source": [
        "# Model Area"
      ]
    },
    {
      "metadata": {
        "id": "HM2uWdH-Xotg",
        "colab_type": "code",
        "colab": {}
      },
      "cell_type": "code",
      "source": [
        "class Down(nn.Module):\n",
        "    def __init__(self,in_channels,out_channels):\n",
        "        super(Down, self).__init__()\n",
        "        self.down = nn.Sequential(nn.Conv2d(in_channels,out_channels,(3,3),stride=1, padding=1),\n",
        "                                 nn.AvgPool2d(kernel_size=(2,2)),\n",
        "                                 nn.BatchNorm2d(out_channels),\n",
        "                                  nn.ReLU()\n",
        "                                 )\n",
        "    def forward(self,x):\n",
        "#         print(x.shape)\n",
        "        return self.down(x)"
      ],
      "execution_count": 0,
      "outputs": []
    },
    {
      "metadata": {
        "id": "lZMhEnGQdzoZ",
        "colab_type": "code",
        "colab": {}
      },
      "cell_type": "code",
      "source": [
        "class Up(nn.Module):\n",
        "    def __init__(self,in_channels, out_channels,size):\n",
        "        super(Up,self).__init__()\n",
        "#         self.upscale = nn.Upsample(scale_factor= 2)\n",
        "        self.upscale = nn.ConvTranspose2d(in_channels = in_channels, out_channels = out_channels, kernel_size = (2,2),stride=2)\n",
        "        self.bn = nn.BatchNorm2d(out_channels)\n",
        "        self.out_channels = out_channels\n",
        "        self.nonlin1 = nn.ReLU()\n",
        "        self.nonlin2 = nn.ReLU()\n",
        "        self.size = size\n",
        "        self.noe = size ** 2\n",
        "        \n",
        "#         self.bilinear = nn.Bilinear(self.noe ,self.noe ,self.noe )\n",
        "                \n",
        "    def forward(self,x1, x2):\n",
        "        x1 = self.upscale(x1)\n",
        "        x1 = self.bn(x1)\n",
        "        x1 = self.nonlin1(x1)\n",
        "#         print(x1.shape)\n",
        "#         print(x2.shape)\n",
        "        x = torch.cat((x1, x2),dim=1)\n",
        "        return x"
      ],
      "execution_count": 0,
      "outputs": []
    },
    {
      "metadata": {
        "id": "7eteCM3sd1kR",
        "colab_type": "code",
        "colab": {}
      },
      "cell_type": "code",
      "source": [
        "class Decoder(nn.Module):\n",
        "    def __init__(self,no_features=2048,in_size=(4,4),out_size=(128,128),in_channels=3):\n",
        "        super(Decoder,self).__init__()\n",
        "        self.down1 = Down(in_channels,32)\n",
        "        self.down2 = Down(32,128)\n",
        "        self.down3 = Down(128,256)\n",
        "        self.down4 = Down(256,512)\n",
        "        \n",
        "        self.up1 = Up(2048, 512, 8)\n",
        "        self.up2 = Up(1024, 256, 16)\n",
        "        self.up3 = Up(512, 128, 32)\n",
        "        self.up4 = Up(256, 32, 64)\n",
        "        self.up5 = Up(64,5,128)\n",
        "        \n",
        "        \n",
        "    def forward(self,img,feats):\n",
        "        x1 = self.down1(img)\n",
        "        x2 = self.down2(x1)\n",
        "        x3 = self.down3(x2)\n",
        "        x4 = self.down4(x3)\n",
        "        \n",
        "        x = self.up1(feats, x4)\n",
        "        x = self.up2(x,x3)\n",
        "        x = self.up3(x, x2)\n",
        "        x = self.up4(x,x1)\n",
        "        x = self.up5(x,img)\n",
        "        return x"
      ],
      "execution_count": 0,
      "outputs": []
    },
    {
      "metadata": {
        "id": "-xULd5g7RtYE",
        "colab_type": "text"
      },
      "cell_type": "markdown",
      "source": [
        "### importing Se Resnext 50 trained on imagenet"
      ]
    },
    {
      "metadata": {
        "id": "a23h4ycMQrIc",
        "colab_type": "code",
        "colab": {}
      },
      "cell_type": "code",
      "source": [
        "class MixNet(nn.Module):\n",
        "    def __init__(self,in_channels = 3, out_channels=1, base= 'se_resnext50_32x4d'):\n",
        "        super(MixNet, self).__init__()\n",
        "        self.resnet = pretrainedmodels.__dict__[base](num_classes=1000, pretrained='imagenet')\n",
        "        self.decoder = Decoder()\n",
        "        self.conv1 = nn.Conv3d(1,1,kernel_size=(8,1,1),stride=(8,1,1))\n",
        "        self.conv2 = nn.Conv2d(1,2,kernel_size=3,padding=1)\n",
        "       \n",
        "        \n",
        "    def forward(self,x):\n",
        "        feats = self.resnet.features(x)\n",
        "        x = self.decoder(x,feats)\n",
        "        x.unsqueeze_(1)\n",
        "        x = self.conv1(x)\n",
        "        x.squeeze_(1)\n",
        "        x = self.conv2(x)\n",
        "        return F.softmax(x)"
      ],
      "execution_count": 0,
      "outputs": []
    },
    {
      "metadata": {
        "id": "zgcG3zpDT37R",
        "colab_type": "text"
      },
      "cell_type": "markdown",
      "source": [
        "## DataLoader and dataset splitting"
      ]
    },
    {
      "metadata": {
        "id": "HPrgWtu2wXtU",
        "colab_type": "code",
        "colab": {}
      },
      "cell_type": "code",
      "source": [
        "batch_size = 50\n",
        "validation_split = 0.1\n",
        "shuffle_dataset = True\n",
        "random_seed= 42\n",
        "# Creating data indices for training and validation splits:\n",
        "dataset_size = len(train_dataset)\n",
        "indices = list(range(dataset_size))\n",
        "split = int(np.floor(validation_split * dataset_size))\n",
        "if shuffle_dataset :\n",
        "    np.random.seed(random_seed)\n",
        "    np.random.shuffle(indices)\n",
        "train_indices, val_indices = indices[split:], indices[:split]\n",
        "\n",
        "# Creating PT data samplers and loaders:\n",
        "train_sampler = SubsetRandomSampler(train_indices)\n",
        "validation_sampler = SubsetRandomSampler(val_indices)\n",
        "train_loader = torch.utils.data.DataLoader(train_dataset,batch_size=batch_size,sampler=train_sampler)\n",
        "validation_loader = torch.utils.data.DataLoader(train_dataset, batch_size=batch_size,sampler=validation_sampler)"
      ],
      "execution_count": 0,
      "outputs": []
    },
    {
      "metadata": {
        "id": "FBrXCu4jUBQB",
        "colab_type": "code",
        "colab": {}
      },
      "cell_type": "code",
      "source": [
        ""
      ],
      "execution_count": 0,
      "outputs": []
    },
    {
      "metadata": {
        "id": "uCgMJb_eUByD",
        "colab_type": "text"
      },
      "cell_type": "markdown",
      "source": [
        "## Some evaluation metrics and Loss functions"
      ]
    },
    {
      "metadata": {
        "id": "ILpmwaDtwXth",
        "colab_type": "code",
        "colab": {}
      },
      "cell_type": "code",
      "source": [
        "class BinaryCrossEntropyLoss2d(nn.Module):\n",
        "    def __init__(self, weight=None, size_average=True):\n",
        "        \"\"\"\n",
        "        Binary cross entropy loss 2D\n",
        "        Args:\n",
        "            weight:\n",
        "            size_average:\n",
        "        \"\"\"\n",
        "        super(BinaryCrossEntropyLoss2d, self).__init__()\n",
        "        self.bce_loss = nn.BCELoss(weight, size_average)\n",
        "        if torch.cuda.is_available():\n",
        "            self.bce_loss = self.bce_loss.cuda()\n",
        "        self.threshold = torch.tensor(0.3,requires_grad=True).cuda()\n",
        "\n",
        "    def forward(self, pred, target):\n",
        "#         pred = F.sigmoid(pred)\n",
        "        threshold=0.3\n",
        "        pred1 = ((pred>(1-self.threshold)) * (pred<(1+self.threshold))).float().cuda()\n",
        "        pred1 = pred1.view(-1)  # Flatten\n",
        "        target = target.view(-1)  # Flatten\n",
        "        return self.bce_loss(pred1, target)"
      ],
      "execution_count": 0,
      "outputs": []
    },
    {
      "metadata": {
        "id": "cLvCr3IQwXtm",
        "colab_type": "code",
        "colab": {}
      },
      "cell_type": "code",
      "source": [
        "class SoftDiceLoss(nn.Module):\n",
        "    def __init__(self):\n",
        "        super(SoftDiceLoss, self).__init__()\n",
        "    def forward(self, pred, target):\n",
        "        smooth = 1\n",
        "        num = target.size(0)\n",
        "        #pred = F.sigmoid(pred)\n",
        "        pred = pred.view(num, -1)\n",
        "        target = target.view(num, -1)\n",
        "        intersection = (pred * target)\n",
        "        score = 2. * (intersection.sum(1) + smooth) / (pred.sum(1) + target.sum(1) + smooth)\n",
        "        score = 1 - score.sum() / num\n",
        "        return score"
      ],
      "execution_count": 0,
      "outputs": []
    },
    {
      "metadata": {
        "id": "9CU7PcdGwXtt",
        "colab_type": "code",
        "colab": {}
      },
      "cell_type": "code",
      "source": [
        "def dice_coeff(pred, target):\n",
        "    smooth = 1.\n",
        "    num = target.size(0)\n",
        "    pred = pred.view(num, -1)  # Flatten\n",
        "    target = target.view(num, -1)  # Flatten\n",
        "    intersection = (pred * target)\n",
        "    score = (2. * intersection.sum(1) + smooth).float() / (pred.sum(1) + target.sum(1) + smooth).float()\n",
        "    return score.sum()/num"
      ],
      "execution_count": 0,
      "outputs": []
    },
    {
      "metadata": {
        "id": "QcxIxXq5wXtz",
        "colab_type": "code",
        "colab": {}
      },
      "cell_type": "code",
      "source": [
        "def bce_dice_loss(y_true, y_pred):\n",
        "    return 0.5*BinaryCrossEntropyLoss2d()(y_true, y_pred)-dice_coeff(y_true, y_pred)"
      ],
      "execution_count": 0,
      "outputs": []
    },
    {
      "metadata": {
        "id": "lVCCgK0EUNZf",
        "colab_type": "code",
        "colab": {}
      },
      "cell_type": "code",
      "source": [
        ""
      ],
      "execution_count": 0,
      "outputs": []
    },
    {
      "metadata": {
        "id": "oIV4nJsYUN3Y",
        "colab_type": "text"
      },
      "cell_type": "markdown",
      "source": [
        "# Training"
      ]
    },
    {
      "metadata": {
        "id": "OL9OQNTawXt-",
        "colab_type": "code",
        "colab": {}
      },
      "cell_type": "code",
      "source": [
        "model=MixNet().float()\n",
        "criterion =  nn.CrossEntropyLoss()\n",
        "optimizer = torch.optim.SGD(model.parameters(), lr = 0.1, momentum=0.9)\n",
        "exp_lr_scheduler = torch.optim.lr_scheduler.StepLR(optimizer, step_size=30, gamma=0.1)\n",
        "if torch.cuda.is_available():\n",
        "    model = model.cuda()"
      ],
      "execution_count": 0,
      "outputs": []
    },
    {
      "metadata": {
        "id": "krdeJDd5wXuL",
        "colab_type": "code",
        "colab": {}
      },
      "cell_type": "code",
      "source": [
        "def validate():\n",
        "    total_loss = 0\n",
        "    total_accuracy = 0\n",
        "    model.eval()\n",
        "    for batch_idx, (data,target) in enumerate(validation_loader):\n",
        "        if torch.cuda.is_available():\n",
        "            data = data.cuda()\n",
        "            target = target.cuda()\n",
        "        target = target.long()\n",
        "        # forward\n",
        "        output = model(data)\n",
        "        predict =torch.argmax(output, dim=1)\n",
        "        # backward + optimize\n",
        "        loss = criterion(output, target)\n",
        "        # print statistics\n",
        "        accuracy = dice_coeff(predict,target)\n",
        "        total_accuracy+=accuracy.item()\n",
        "        total_loss+=loss.item()\n",
        "    print('Validation Loss: {:.5f} Validation Accuracy: {:.5f}'.format(total_loss*batch_size/len(val_indices),total_accuracy*batch_size/len(val_indices)))\n",
        "    return total_loss,total_accuracy"
      ],
      "execution_count": 0,
      "outputs": []
    },
    {
      "metadata": {
        "id": "7ci5neK7wXuU",
        "colab_type": "code",
        "colab": {}
      },
      "cell_type": "code",
      "source": [
        "def train(epoch=1):\n",
        "    loss_train_data = []\n",
        "    accuracy_train_data = []\n",
        "    loss_test_data = []\n",
        "    accuracy_test_data = []\n",
        "    epoch_data=[]\n",
        "    while True:\n",
        "        total_loss = 0\n",
        "        total_accuracy = 0\n",
        "        model.train()\n",
        "#         if epoch%5==0:\n",
        "#             save_checkpoint({\n",
        "#                 'epoch': epoch + 1,\n",
        "#                 'state_dict': model.state_dict(),\n",
        "#                 'optimizer' : optimizer.state_dict(),\n",
        "#                 })\n",
        "        exp_lr_scheduler.step()\n",
        "        print(exp_lr_scheduler.get_lr())\n",
        "        for batch_idx, data in enumerate(train_loader):\n",
        "            X,target = data\n",
        "            target = target.long()\n",
        "            if torch.cuda.is_available():\n",
        "                X = X.cuda()\n",
        "                target = target.cuda()\n",
        "            # forward\n",
        "            output = model(X)\n",
        "            predict =torch.argmax(output, dim=1)\n",
        "            \n",
        "            # backward + optimize\n",
        "            loss = criterion(output, target)\n",
        "            optimizer.zero_grad()\n",
        "            loss.backward()\n",
        "            optimizer.step()\n",
        "            # print statistics\n",
        "            accuracy = dice_coeff(predict,target)\n",
        "            total_accuracy+=accuracy.item()\n",
        "            total_loss+=loss.item()\n",
        "            print('Epoch: {} [{}/{} ({:.0f}%)]\\tLoss: {:.5f}\\tAccuracy: {:.5f}'.format(epoch, (batch_idx + 1) * batch_size, len(train_indices),100*(batch_idx + 1)* batch_size / len(train_indices), loss.item(),accuracy))\n",
        "        print('Train Loss: {:.5f} Train Accuracy: {:.5f}'.format(total_loss*batch_size/len(train_indices),total_accuracy*batch_size/len(train_indices)))\n",
        "        loss,accuracy = validate()\n",
        "        # Data append\n",
        "        loss_train_data.append(total_loss*batch_size/len(train_indices))\n",
        "        loss_test_data.append(loss*batch_size/len(val_indices))\n",
        "        accuracy_train_data.append(total_accuracy*batch_size/len(train_indices))\n",
        "        accuracy_test_data.append(accuracy*batch_size/len(val_indices))\n",
        "        epoch_data.append(epoch)\n",
        "        # Visualize\n",
        "        plt.figure(figsize=(10,5))\n",
        "        plt.plot(epoch_data, loss_train_data,label=\"Train Loss {:.5f}\".format(loss_train_data[-1]))\n",
        "        plt.plot(epoch_data, accuracy_train_data,label=\"Train Accuracy {:.5f}\".format(accuracy_train_data[-1]))\n",
        "        plt.plot(epoch_data,loss_test_data, label=\"Validation Loss {:.5f}\".format(loss_test_data[-1]))\n",
        "        plt.plot(epoch_data,accuracy_test_data,label=\"Validation Accuracy {:.5f}\".format(accuracy_test_data[-1]))\n",
        "        display.clear_output(wait=False)\n",
        "        plt.legend()\n",
        "        plt.show()\n",
        "        epoch+=1"
      ],
      "execution_count": 0,
      "outputs": []
    },
    {
      "metadata": {
        "id": "1XQF7jq5wXud",
        "colab_type": "code",
        "colab": {
          "base_uri": "https://localhost:8080/",
          "height": 1614
        },
        "outputId": "38dfb80d-129e-4ed6-b254-209d61fe871e"
      },
      "cell_type": "code",
      "source": [
        "train(epoch=84)"
      ],
      "execution_count": 34,
      "outputs": [
        {
          "output_type": "display_data",
          "data": {
            "image/png": "[encoded data removed]",
            "text/plain": [
              "<matplotlib.figure.Figure at 0x7fd4a4ff26d8>"
            ]
          },
          "metadata": {
            "tags": []
          }
        },
        {
          "output_type": "stream",
          "text": [
            "[1.0000000000000003e-05]\n",
            "Epoch: 123 [50/3600 (1%)]\tLoss: 0.32474\tAccuracy: 0.93351\n",
            "Epoch: 123 [100/3600 (3%)]\tLoss: 0.33022\tAccuracy: 0.91656\n",
            "Epoch: 123 [150/3600 (4%)]\tLoss: 0.34086\tAccuracy: 0.91284\n",
            "Epoch: 123 [200/3600 (6%)]\tLoss: 0.32459\tAccuracy: 0.88944\n",
            "Epoch: 123 [250/3600 (7%)]\tLoss: 0.34570\tAccuracy: 0.85760\n",
            "Epoch: 123 [300/3600 (8%)]\tLoss: 0.33466\tAccuracy: 0.87545\n",
            "Epoch: 123 [350/3600 (10%)]\tLoss: 0.34322\tAccuracy: 0.87557\n",
            "Epoch: 123 [400/3600 (11%)]\tLoss: 0.34830\tAccuracy: 0.88074\n",
            "Epoch: 123 [450/3600 (12%)]\tLoss: 0.35613\tAccuracy: 0.90504\n",
            "Epoch: 123 [500/3600 (14%)]\tLoss: 0.32605\tAccuracy: 0.85941\n",
            "Epoch: 123 [550/3600 (15%)]\tLoss: 0.32837\tAccuracy: 0.83414\n",
            "Epoch: 123 [600/3600 (17%)]\tLoss: 0.32462\tAccuracy: 0.90762\n",
            "Epoch: 123 [650/3600 (18%)]\tLoss: 0.32775\tAccuracy: 0.94078\n",
            "Epoch: 123 [700/3600 (19%)]\tLoss: 0.32984\tAccuracy: 0.94610\n",
            "Epoch: 123 [750/3600 (21%)]\tLoss: 0.33836\tAccuracy: 0.89654\n",
            "Epoch: 123 [800/3600 (22%)]\tLoss: 0.32691\tAccuracy: 0.87551\n",
            "Epoch: 123 [850/3600 (24%)]\tLoss: 0.34182\tAccuracy: 0.83817\n",
            "Epoch: 123 [900/3600 (25%)]\tLoss: 0.34327\tAccuracy: 0.85224\n",
            "Epoch: 123 [950/3600 (26%)]\tLoss: 0.32995\tAccuracy: 0.94299\n",
            "Epoch: 123 [1000/3600 (28%)]\tLoss: 0.32281\tAccuracy: 0.92353\n",
            "Epoch: 123 [1050/3600 (29%)]\tLoss: 0.32405\tAccuracy: 0.90820\n",
            "Epoch: 123 [1100/3600 (31%)]\tLoss: 0.34516\tAccuracy: 0.85732\n",
            "Epoch: 123 [1150/3600 (32%)]\tLoss: 0.32424\tAccuracy: 0.84480\n",
            "Epoch: 123 [1200/3600 (33%)]\tLoss: 0.32479\tAccuracy: 0.90398\n",
            "Epoch: 123 [1250/3600 (35%)]\tLoss: 0.33833\tAccuracy: 0.89453\n",
            "Epoch: 123 [1300/3600 (36%)]\tLoss: 0.36391\tAccuracy: 0.77930\n",
            "Epoch: 123 [1350/3600 (38%)]\tLoss: 0.35270\tAccuracy: 0.81538\n",
            "Epoch: 123 [1400/3600 (39%)]\tLoss: 0.33180\tAccuracy: 0.84627\n",
            "Epoch: 123 [1450/3600 (40%)]\tLoss: 0.33079\tAccuracy: 0.91998\n",
            "Epoch: 123 [1500/3600 (42%)]\tLoss: 0.35611\tAccuracy: 0.84821\n",
            "Epoch: 123 [1550/3600 (43%)]\tLoss: 0.34032\tAccuracy: 0.80532\n",
            "Epoch: 123 [1600/3600 (44%)]\tLoss: 0.32196\tAccuracy: 0.93100\n",
            "Epoch: 123 [1650/3600 (46%)]\tLoss: 0.36162\tAccuracy: 0.84065\n",
            "Epoch: 123 [1700/3600 (47%)]\tLoss: 0.33024\tAccuracy: 0.82129\n",
            "Epoch: 123 [1750/3600 (49%)]\tLoss: 0.34414\tAccuracy: 0.96361\n",
            "Epoch: 123 [1800/3600 (50%)]\tLoss: 0.32627\tAccuracy: 0.90709\n",
            "Epoch: 123 [1850/3600 (51%)]\tLoss: 0.34496\tAccuracy: 0.88012\n",
            "Epoch: 123 [1900/3600 (53%)]\tLoss: 0.34372\tAccuracy: 0.84773\n",
            "Epoch: 123 [1950/3600 (54%)]\tLoss: 0.33292\tAccuracy: 0.91146\n",
            "Epoch: 123 [2000/3600 (56%)]\tLoss: 0.32995\tAccuracy: 0.86761\n"
          ],
          "name": "stdout"
        },
        {
          "output_type": "error",
          "ename": "KeyboardInterrupt",
          "evalue": "ignored",
          "traceback": [
            "\u001b[0;31m---------------------------------------------------------------------------\u001b[0m",
            "\u001b[0;31mKeyboardInterrupt\u001b[0m                         Traceback (most recent call last)",
            "\u001b[0;32m<ipython-input-34-6caf6397ef2e>\u001b[0m in \u001b[0;36m<module>\u001b[0;34m()\u001b[0m\n\u001b[0;32m----> 1\u001b[0;31m \u001b[0mtrain\u001b[0m\u001b[0;34m(\u001b[0m\u001b[0mepoch\u001b[0m\u001b[0;34m=\u001b[0m\u001b[0;36m84\u001b[0m\u001b[0;34m)\u001b[0m\u001b[0;34m\u001b[0m\u001b[0m\n\u001b[0m",
            "\u001b[0;32m<ipython-input-29-e64c7ea8824a>\u001b[0m in \u001b[0;36mtrain\u001b[0;34m(epoch)\u001b[0m\n\u001b[1;32m     30\u001b[0m             \u001b[0mloss\u001b[0m \u001b[0;34m=\u001b[0m \u001b[0mcriterion\u001b[0m\u001b[0;34m(\u001b[0m\u001b[0moutput\u001b[0m\u001b[0;34m,\u001b[0m \u001b[0mtarget\u001b[0m\u001b[0;34m)\u001b[0m\u001b[0;34m\u001b[0m\u001b[0m\n\u001b[1;32m     31\u001b[0m             \u001b[0moptimizer\u001b[0m\u001b[0;34m.\u001b[0m\u001b[0mzero_grad\u001b[0m\u001b[0;34m(\u001b[0m\u001b[0;34m)\u001b[0m\u001b[0;34m\u001b[0m\u001b[0m\n\u001b[0;32m---> 32\u001b[0;31m             \u001b[0mloss\u001b[0m\u001b[0;34m.\u001b[0m\u001b[0mbackward\u001b[0m\u001b[0;34m(\u001b[0m\u001b[0;34m)\u001b[0m\u001b[0;34m\u001b[0m\u001b[0m\n\u001b[0m\u001b[1;32m     33\u001b[0m             \u001b[0moptimizer\u001b[0m\u001b[0;34m.\u001b[0m\u001b[0mstep\u001b[0m\u001b[0;34m(\u001b[0m\u001b[0;34m)\u001b[0m\u001b[0;34m\u001b[0m\u001b[0m\n\u001b[1;32m     34\u001b[0m             \u001b[0;31m# print statistics\u001b[0m\u001b[0;34m\u001b[0m\u001b[0;34m\u001b[0m\u001b[0m\n",
            "\u001b[0;32m/usr/local/lib/python3.6/dist-packages/torch/tensor.py\u001b[0m in \u001b[0;36mbackward\u001b[0;34m(self, gradient, retain_graph, create_graph)\u001b[0m\n\u001b[1;32m     91\u001b[0m                 \u001b[0mproducts\u001b[0m\u001b[0;34m.\u001b[0m \u001b[0mDefaults\u001b[0m \u001b[0mto\u001b[0m\u001b[0;31m \u001b[0m\u001b[0;31m`\u001b[0m\u001b[0;31m`\u001b[0m\u001b[0;32mFalse\u001b[0m\u001b[0;31m`\u001b[0m\u001b[0;31m`\u001b[0m\u001b[0;34m.\u001b[0m\u001b[0;34m\u001b[0m\u001b[0m\n\u001b[1;32m     92\u001b[0m         \"\"\"\n\u001b[0;32m---> 93\u001b[0;31m         \u001b[0mtorch\u001b[0m\u001b[0;34m.\u001b[0m\u001b[0mautograd\u001b[0m\u001b[0;34m.\u001b[0m\u001b[0mbackward\u001b[0m\u001b[0;34m(\u001b[0m\u001b[0mself\u001b[0m\u001b[0;34m,\u001b[0m \u001b[0mgradient\u001b[0m\u001b[0;34m,\u001b[0m \u001b[0mretain_graph\u001b[0m\u001b[0;34m,\u001b[0m \u001b[0mcreate_graph\u001b[0m\u001b[0;34m)\u001b[0m\u001b[0;34m\u001b[0m\u001b[0m\n\u001b[0m\u001b[1;32m     94\u001b[0m \u001b[0;34m\u001b[0m\u001b[0m\n\u001b[1;32m     95\u001b[0m     \u001b[0;32mdef\u001b[0m \u001b[0mregister_hook\u001b[0m\u001b[0;34m(\u001b[0m\u001b[0mself\u001b[0m\u001b[0;34m,\u001b[0m \u001b[0mhook\u001b[0m\u001b[0;34m)\u001b[0m\u001b[0;34m:\u001b[0m\u001b[0;34m\u001b[0m\u001b[0m\n",
            "\u001b[0;32m/usr/local/lib/python3.6/dist-packages/torch/autograd/__init__.py\u001b[0m in \u001b[0;36mbackward\u001b[0;34m(tensors, grad_tensors, retain_graph, create_graph, grad_variables)\u001b[0m\n\u001b[1;32m     88\u001b[0m     Variable._execution_engine.run_backward(\n\u001b[1;32m     89\u001b[0m         \u001b[0mtensors\u001b[0m\u001b[0;34m,\u001b[0m \u001b[0mgrad_tensors\u001b[0m\u001b[0;34m,\u001b[0m \u001b[0mretain_graph\u001b[0m\u001b[0;34m,\u001b[0m \u001b[0mcreate_graph\u001b[0m\u001b[0;34m,\u001b[0m\u001b[0;34m\u001b[0m\u001b[0m\n\u001b[0;32m---> 90\u001b[0;31m         allow_unreachable=True)  # allow_unreachable flag\n\u001b[0m\u001b[1;32m     91\u001b[0m \u001b[0;34m\u001b[0m\u001b[0m\n\u001b[1;32m     92\u001b[0m \u001b[0;34m\u001b[0m\u001b[0m\n",
            "\u001b[0;31mKeyboardInterrupt\u001b[0m: "
          ]
        }
      ]
    },
    {
      "metadata": {
        "id": "Gxraqy4nfoB_",
        "colab_type": "code",
        "colab": {
          "base_uri": "https://localhost:8080/",
          "height": 54
        },
        "outputId": "d3e4a136-b520-4656-80cb-de24b7e3c73b"
      },
      "cell_type": "code",
      "source": [
        "validate()"
      ],
      "execution_count": 22,
      "outputs": [
        {
          "output_type": "stream",
          "text": [
            "Validation Loss: 0.67177 Validation Accuracy: 0.34218\n"
          ],
          "name": "stdout"
        },
        {
          "output_type": "execute_result",
          "data": {
            "text/plain": [
              "(5.37412166595459, 2.7374233305454254)"
            ]
          },
          "metadata": {
            "tags": []
          },
          "execution_count": 22
        }
      ]
    },
    {
      "metadata": {
        "id": "qYFODkVXiwGn",
        "colab_type": "code",
        "colab": {}
      },
      "cell_type": "code",
      "source": [
        "save_checkpoint({\n",
        "                'epoch': 70 + 1,\n",
        "                'state_dict': model.state_dict(),\n",
        "                'optimizer' : optimizer.state_dict(),\n",
        "                })"
      ],
      "execution_count": 0,
      "outputs": []
    },
    {
      "metadata": {
        "id": "kXlxdyRI-zCw",
        "colab_type": "code",
        "colab": {}
      },
      "cell_type": "code",
      "source": [
        "adjust_learning_rate(optimizer,0.01)\n",
        "adjust_momentum(optimizer, 0.1)"
      ],
      "execution_count": 0,
      "outputs": []
    },
    {
      "metadata": {
        "id": "DcDHfTFSU7sp",
        "colab_type": "text"
      },
      "cell_type": "markdown",
      "source": [
        "# Training Afterparty (or is there anything to celebrate? )"
      ]
    },
    {
      "metadata": {
        "id": "-N_vCv29Mzzw",
        "colab_type": "text"
      },
      "cell_type": "markdown",
      "source": [
        "## creating the test dataset"
      ]
    },
    {
      "metadata": {
        "id": "WvVbhpdIVuPC",
        "colab_type": "code",
        "colab": {}
      },
      "cell_type": "code",
      "source": [
        "#create test\n",
        "fnames = os.listdir('./test/images')\n",
        "data = {'id':[]}\n",
        "for i in fnames:\n",
        "    data['id'].append(i[:-4])\n",
        "test = pd.DataFrame(data)\n",
        "test.to_csv('test.csv',index=False)\n",
        "del data\n",
        "del fnames\n",
        "del test"
      ],
      "execution_count": 0,
      "outputs": []
    },
    {
      "metadata": {
        "id": "JIyhBhHgWqfD",
        "colab_type": "code",
        "colab": {}
      },
      "cell_type": "code",
      "source": [
        "batch_size = 30\n",
        "test_dataset = TGS_dataset(is_train=False)\n",
        "test_loader = torch.utils.data.DataLoader(test_dataset, batch_size=batch_size)"
      ],
      "execution_count": 0,
      "outputs": []
    },
    {
      "metadata": {
        "id": "xi_UdsF8M9xi",
        "colab_type": "text"
      },
      "cell_type": "markdown",
      "source": [
        "## Transforms to get 101 * 101 image"
      ]
    },
    {
      "metadata": {
        "id": "QEDjPcUHM8Ne",
        "colab_type": "code",
        "colab": {}
      },
      "cell_type": "code",
      "source": [
        "def mask_from_tensor(x):\n",
        "    img = TF.to_pil_image(x.cpu().type(torch.uint8))\n",
        "    img = TF.to_grayscale(img)\n",
        "    img = TF.resize(img,(101,101))\n",
        "    img = TF.to_tensor(img)\n",
        "    img = img>0.0001\n",
        "    return img\n",
        "    "
      ],
      "execution_count": 0,
      "outputs": []
    },
    {
      "metadata": {
        "id": "By6QyI_iWs7x",
        "colab_type": "code",
        "colab": {}
      },
      "cell_type": "code",
      "source": [
        "def rle_encode(img):\n",
        "    '''\n",
        "    img: numpy array, 1 - mask, 0 - background\n",
        "    Returns run length as string formated\n",
        "    '''\n",
        "    pixels = img.flatten()\n",
        "    pixels = np.concatenate([[0], pixels, [0]])\n",
        "    runs = np.where(pixels[1:] != pixels[:-1])[0] + 1\n",
        "    runs[1::2] -= runs[::2]\n",
        "    return ' '.join(str(x) for x in runs)\n",
        "def predict(test_loader):\n",
        "    rles=[]\n",
        "    model.eval()\n",
        "    for batch_idx,( data) in enumerate(test_loader):\n",
        "        if torch.cuda.is_available():\n",
        "            data = data.cuda()\n",
        "        output = model(data)\n",
        "        predict = torch.argmax(output, dim=1)\n",
        "        predict = predict.long().cpu()\n",
        "        for t in torch.chunk(predict,predict.shape[0]):\n",
        "            t = mask_from_tensor(t)\n",
        "            rles.append(rle_encode(t.squeeze(0).cpu().numpy()))\n",
        "        if batch_idx%15==0:\n",
        "            display.clear_output(wait=False)\n",
        "            print('Progress {:.5f} %'.format(((batch_idx+1)*batch_size*100)/len(test_dataset)))\n",
        "    return rles\n",
        "    "
      ],
      "execution_count": 0,
      "outputs": []
    },
    {
      "metadata": {
        "id": "B1gZjbUbKxiV",
        "colab_type": "code",
        "colab": {}
      },
      "cell_type": "code",
      "source": [
        "rle = predict(test_loader)"
      ],
      "execution_count": 0,
      "outputs": []
    },
    {
      "metadata": {
        "id": "k-7ZEcu7L5Db",
        "colab_type": "code",
        "colab": {}
      },
      "cell_type": "code",
      "source": [
        "test_dataset.input['rle_mask'] = rle"
      ],
      "execution_count": 0,
      "outputs": []
    },
    {
      "metadata": {
        "id": "LNBIotAHWwiJ",
        "colab_type": "code",
        "colab": {}
      },
      "cell_type": "code",
      "source": [
        "test_dataset.input.drop([\"z\"],axis=1,inplace=True)\n",
        "test_dataset.input.to_csv(\"submission.csv\",index=False)\n",
        "uploaded = drive.CreateFile({'title': 'submissions_mixnetv2.csv'})\n",
        "uploaded.SetContentFile('submission.csv')\n",
        "uploaded.Upload()"
      ],
      "execution_count": 0,
      "outputs": []
    },
    {
      "metadata": {
        "id": "Tp6hWpoo0Gj_",
        "colab_type": "text"
      },
      "cell_type": "markdown",
      "source": [
        "# Review \n",
        "Big improvement over last time(incorect implamentation)\n",
        "This shall serve as our baseline for future experiments\n",
        "The model starts to converge with about 0.88 dice score on train and 0.85 on validation\n",
        "submission score = 0.454566\n",
        "\n",
        "The hyperparameters are very much arbitrary and hence there is lot of scope to improve that\n",
        "## Remarks\n",
        "- slight overfitting (expected more because of no dropout but random flips and resnext's features are quite balancing the absence of regularization)\n",
        "\n",
        "- the final conv2d with padding maybe giving wrong values for boundary pixels that make up (4*127)/2^14 or about 3% \n",
        "\n",
        "## Future scope\n",
        "- lovasz loss\n",
        "\n",
        "- other pretrained models\n",
        "\n"
      ]
    },
    {
      "metadata": {
        "id": "NRdqWVHsXSRm",
        "colab_type": "text"
      },
      "cell_type": "markdown",
      "source": [
        "## Misc code"
      ]
    },
    {
      "metadata": {
        "id": "GREExsDIXXdM",
        "colab_type": "code",
        "colab": {}
      },
      "cell_type": "code",
      "source": [
        "# download last saved model to resume training or predict\n",
        "downloaded = drive.CreateFile({'id': '1uHwN6i_N99GNBdFtKgJI7__n34abrBFz'})\n",
        "downloaded.GetContentFile('model.dict')\n",
        "model=MixNet().float()\n",
        "criterion =  nn.CrossEntropyLoss()\n",
        "optimizer = torch.optim.SGD(model.parameters(), lr = 0.1, momentum=0.9)\n",
        "epoch=0\n"
      ],
      "execution_count": 0,
      "outputs": []
    },
    {
      "metadata": {
        "id": "YPRsogSxXip2",
        "colab_type": "code",
        "colab": {}
      },
      "cell_type": "code",
      "source": [
        "load_checkpoint('model.dict')\n",
        "model.cuda()"
      ],
      "execution_count": 0,
      "outputs": []
    },
    {
      "metadata": {
        "id": "aZH6XcIcYyf7",
        "colab_type": "code",
        "colab": {}
      },
      "cell_type": "code",
      "source": [
        ""
      ],
      "execution_count": 0,
      "outputs": []
    }
  ]
}